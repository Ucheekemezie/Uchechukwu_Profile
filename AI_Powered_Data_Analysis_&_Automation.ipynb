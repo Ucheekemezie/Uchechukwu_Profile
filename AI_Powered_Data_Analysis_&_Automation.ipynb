{
  "nbformat": 4,
  "nbformat_minor": 0,
  "metadata": {
    "colab": {
      "provenance": [],
      "mount_file_id": "1ijYxd0yMlIiDpjcwGbV3HGOXzU9vsFmI",
      "authorship_tag": "ABX9TyObDE6rt4AkVimPAojI1U5k",
      "include_colab_link": true
    },
    "kernelspec": {
      "name": "python3",
      "display_name": "Python 3"
    },
    "language_info": {
      "name": "python"
    }
  },
  "cells": [
    {
      "cell_type": "markdown",
      "metadata": {
        "id": "view-in-github",
        "colab_type": "text"
      },
      "source": [
        "<a href=\"https://colab.research.google.com/github/Ucheekemezie/Uchechukwu_Profile/blob/master/AI_Powered_Data_Analysis_%26_Automation.ipynb\" target=\"_parent\"><img src=\"https://colab.research.google.com/assets/colab-badge.svg\" alt=\"Open In Colab\"/></a>"
      ]
    },
    {
      "cell_type": "markdown",
      "source": [
        "# AI-Powered Data Analysis & Automation"
      ],
      "metadata": {
        "id": "uOCcpWQofSUJ"
      }
    },
    {
      "cell_type": "markdown",
      "source": [
        "## 1. Objective\n",
        "This report outlines AI-powered insights extracted from a multi-feature dataset using Google AutoML, Power BI and Python. It includes sales forecasting and loan default risk prediction. The report also interprets regression model performance and classification results, guiding business decisions around marketing, credit and risk managment."
      ],
      "metadata": {
        "id": "TeCJ6mPoffER"
      }
    },
    {
      "cell_type": "markdown",
      "source": [
        "## 2. Data Cleaning and Preparation\n",
        "\n",
        "* **Missing values** in numeric fields such as Income, Loan_Amount, and Credit_Score were replaced using median imputation, which is robust to outliers\n",
        "* **Outliers** were removed using the Interquartile Range (IQR) method, which filters values lying outside 1.5×IQR from Q1 and Q3.\n",
        "* **The cleaned dataset** was saved as ‘cleaned_data.csv’ for reproducibility and further analysis."
      ],
      "metadata": {
        "id": "sXFs3DrsftLo"
      }
    },
    {
      "cell_type": "code",
      "execution_count": 47,
      "metadata": {
        "id": "2BrgMigQSMsl"
      },
      "outputs": [],
      "source": [
        "import pandas as pd\n",
        "df = pd.read_csv(\"/content/drive/MyDrive/raw_dataset_week4.csv\")\n",
        "# Select only numeric columns for median imputation\n",
        "numeric_cols = df.select_dtypes(include=['number']).columns\n",
        "df[numeric_cols] = df[numeric_cols].fillna(df[numeric_cols].median())\n",
        "# Replace missing values with column median\n",
        "df.to_csv(\"cleaned_data.csv\", index=False)"
      ]
    },
    {
      "cell_type": "markdown",
      "source": [
        "## 3. Sales Prediction Using Linear Regression\n",
        "* Features used: ‘Marketing_Spend’ and ‘Seasonality’ (one-hot encoded).\n",
        "* StandardScaler was applied post-encoding to normalise the feature values.\n",
        "* The model was trained using an 80/20 train-test split and evaluated using standard regression metrics.\n",
        "\n",
        "**Evaluation Results:**\n",
        "* MSE: ₦760,701,209.93\n",
        "* RMSE: ₦27,580.81\n",
        "\n",
        "This indicates that the model's sales predictions deviate by approximately **₦27,581** on average, suggesting moderate prediction accuracy."
      ],
      "metadata": {
        "id": "2QHlt3XthHtc"
      }
    },
    {
      "cell_type": "code",
      "source": [
        "import numpy as np\n",
        "\n",
        "# Select only numeric columns for outlier detection\n",
        "numeric_cols = df.select_dtypes(include=['number']).columns\n",
        "df_numeric = df[numeric_cols]\n",
        "\n",
        "Q1 = df_numeric.quantile(0.25)\n",
        "Q3 = df_numeric.quantile(0.75)\n",
        "IQR = Q3 - Q1\n",
        "\n",
        "# Filter outliers based on numeric columns\n",
        "df = df[~((df_numeric < (Q1 - 1.5 * IQR)) | (df_numeric > (Q3 + 1.5 * IQR))).any(axis=1)]"
      ],
      "metadata": {
        "id": "EIYBb5NWWPTC"
      },
      "execution_count": 48,
      "outputs": []
    },
    {
      "cell_type": "code",
      "source": [
        "df.to_csv(\"cleaned_data.csv\", index=False)"
      ],
      "metadata": {
        "id": "hKxlyi5lYDyz"
      },
      "execution_count": 49,
      "outputs": []
    },
    {
      "cell_type": "code",
      "source": [
        "from sklearn.model_selection import train_test_split\n",
        "from sklearn.linear_model import LinearRegression\n",
        "from sklearn.metrics import mean_squared_error\n",
        "import pandas as pd\n",
        "from sklearn.preprocessing import StandardScaler # Import StandardScaler\n",
        "\n",
        "# Assuming 'df' is already loaded and cleaned from previous steps\n",
        "\n",
        "# Select features (X) and target (y)\n",
        "X = df[['Marketing_Spend', 'Seasonality']]\n",
        "y = df['Sales']\n",
        "\n",
        "# Perform one-hot encoding on the 'Seasonality' column\n",
        "X = pd.get_dummies(X, columns=['Seasonality'], drop_first=True)\n",
        "\n",
        "# Standardizing numerical features - perform this *after* one-hot encoding\n",
        "scaler = StandardScaler()\n",
        "X_scaled = scaler.fit_transform(X)\n",
        "\n",
        "\n",
        "# Split the data into training and testing sets\n",
        "X_train, X_test, y_train, y_test = train_test_split(X_scaled, y, test_size=0.2,\n",
        "random_state=42)\n",
        "\n",
        "# Initialize and train the Linear Regression model\n",
        "model = LinearRegression()\n",
        "model.fit(X_train, y_train)\n",
        "\n",
        "# Make predictions and evaluate the model\n",
        "predictions = model.predict(X_test)\n",
        "mse = mean_squared_error(y_test, predictions)\n",
        "print(f\"Model MSE: {mse}\")"
      ],
      "metadata": {
        "colab": {
          "base_uri": "https://localhost:8080/"
        },
        "id": "okh9do5iiZCb",
        "outputId": "e783a443-4486-4a98-85bd-fa1264388752"
      },
      "execution_count": 50,
      "outputs": [
        {
          "output_type": "stream",
          "name": "stdout",
          "text": [
            "Model MSE: 760701209.9341159\n"
          ]
        }
      ]
    },
    {
      "cell_type": "code",
      "source": [
        "rmse = np.sqrt(760701209.93)\n",
        "print(f\"Model RMSE: {rmse}\")"
      ],
      "metadata": {
        "colab": {
          "base_uri": "https://localhost:8080/"
        },
        "id": "l2MrbmHMki4W",
        "outputId": "7a69a3b6-a817-45df-b03a-f59f2a77c6c0"
      },
      "execution_count": 51,
      "outputs": [
        {
          "output_type": "stream",
          "name": "stdout",
          "text": [
            "Model RMSE: 27580.812350799242\n"
          ]
        }
      ]
    },
    {
      "cell_type": "markdown",
      "source": [
        "## 4.Default Risk Classification Using Random Forest\n",
        "* Features used: ‘Income’, ‘Loan_Amount’, ‘Credit_Score’\n",
        "* Target: ‘Defaulted’ (binary classification)\n",
        "* A RandomForestClassifier with 100 estimators was trained.\n",
        "\n",
        "**Model Prediction Example:**\n",
        "* Input: Income = ₦55,000, Loan Amount = ₦20,000, Credit Score = 650\n",
        "* Output: Low Default Risk - Safe to approve loan\n",
        "\n",
        "The model is effective at identifying patterns that predict financial risk, which is crucial for loan decision-making."
      ],
      "metadata": {
        "id": "seoNvITGi6kn"
      }
    },
    {
      "cell_type": "code",
      "source": [
        "from sklearn.ensemble import RandomForestClassifier\n",
        "X = df[['Income', 'Loan_Amount', 'Credit_Score']]\n",
        "y = df['Defaulted']\n",
        "model = RandomForestClassifier(n_estimators=100)\n",
        "model.fit(X_train, y_train)\n",
        "predictions = model.predict(X_test)"
      ],
      "metadata": {
        "id": "Ti09emg5l7gl"
      },
      "execution_count": 52,
      "outputs": []
    },
    {
      "cell_type": "code",
      "source": [
        "# Predicting default risk for a new customer\n",
        "new_customer = np.array([[55000, 20000, 650]]) # Income, LoanAmount, CreditScore\n",
        "new_customer_scaled = scaler.transform(new_customer)\n",
        "prediction = model.predict(new_customer_scaled)\n",
        "if prediction[0] == 1:\n",
        "  print(\"🚨 High Default Risk: Consider stricter loan approvalcriteria!\")\n",
        "else:\n",
        "  print(\"✅ Low Default Risk: Safe to approve loan.\")"
      ],
      "metadata": {
        "colab": {
          "base_uri": "https://localhost:8080/"
        },
        "id": "Of3mUFh2zKdr",
        "outputId": "d788d27d-2304-4e15-f894-ce4174f5174b"
      },
      "execution_count": 53,
      "outputs": [
        {
          "output_type": "stream",
          "name": "stdout",
          "text": [
            "✅ Low Default Risk: Safe to approve loan.\n"
          ]
        },
        {
          "output_type": "stream",
          "name": "stderr",
          "text": [
          ]
        }
      ]
    },
    {
      "cell_type": "markdown",
      "source": [
        "## 5. Key Insights\n",
        "- Marketing_Spend is positively correlated with higher sales, confirming that promotional investments drive revenue.\n",
        "- Seasonality plays a key role in sales volume, with some periods (e.g., holidays or dry season) yielding significantly more sales.\n",
        "- Credit_Score and Loan_Amount are the strongest indicators of loan default risk.\n",
        "- Median imputation was successful in maintaining model integrity, with no major drop in performance due to missing data.\n",
        "- Customers with mid-range incomes and average credit scores typically fall into the low-risk segment for loan approvals.\n",
        "\n",
        "## 6. Recommendations\n",
        "**Sales Strategy**\n",
        "- Increase marketing spend during high-performing seasonal windows to maximize ROI.\n",
        "- Monitor **Seasonality** impact continuously and use time-aware forecasting for future planning.\n",
        "\n",
        "**Loan Approval Policy**\n",
        "- Use the trained classification model to screen applicants with high loan amounts and low credit scores.\n",
        "- Proceed with approval for customers predicted to have low default risk, like the example case (₦55,000 income, 650 credit score).\n",
        "\n",
        "## 7. Conclusion\n",
        "The project combined data cleaning, statistical learning, and AI-based risk modeling to generate actionable business insights. The results confirm that marketing effectiveness and customer creditworthiness can be predicted and optimized with well-prepared data and machine learning. The sales forecasting and risk classification models provide a strong foundation for more advanced analytics and automation."
      ],
      "metadata": {
        "id": "kv_1OamrkAL9"
      }
    }
  ]
}
