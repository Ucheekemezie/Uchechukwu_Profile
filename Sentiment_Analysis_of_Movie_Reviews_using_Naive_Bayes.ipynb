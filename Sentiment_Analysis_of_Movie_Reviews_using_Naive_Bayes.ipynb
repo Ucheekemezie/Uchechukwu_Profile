{
  "nbformat": 4,
  "nbformat_minor": 0,
  "metadata": {
    "colab": {
      "provenance": [],
      "authorship_tag": "ABX9TyNR67yggLGYRh2Fl1VUmtwm",
      "include_colab_link": true
    },
    "kernelspec": {
      "name": "python3",
      "display_name": "Python 3"
    },
    "language_info": {
      "name": "python"
    }
  },
  "cells": [
    {
      "cell_type": "markdown",
      "metadata": {
        "id": "view-in-github",
        "colab_type": "text"
      },
      "source": [
        "<a href=\"https://colab.research.google.com/github/Ucheekemezie/Uchechukwu_Profile/blob/master/Copy_of_Sentiment_Analysis_of_Movie_Reviews_using_Naive_Bayes.ipynb\" target=\"_parent\"><img src=\"https://colab.research.google.com/assets/colab-badge.svg\" alt=\"Open In Colab\"/></a>"
      ]
    },
    {
      "cell_type": "markdown",
      "source": [
        "# Table of Contents\n",
        "1. Introduction\n",
        "2. Dataset Creation\n",
        "3. Data Preprocessing and Vectorization\n",
        "4. Model Training and Testing\n",
        "5. Model Evaluation\n",
        "6. Testing with Custom Reviews\n",
        "7. Recommendations for Improvement\n",
        "8. Reflections and Key Learnings\n",
        "9. References"
      ],
      "metadata": {
        "id": "N_oONFqEZa-0"
      }
    },
    {
      "cell_type": "markdown",
      "source": [
        "# 1. Introduction\n",
        "In this project, a basic Natural Language Processing (NLP) pipeline is implemented to classify movie reviews as either positive or negative sentiments. The project involves preparing a small sample dataset, converting textual data into numeric format using CountVectorizer, and training a Multinomial Naive Bayes model. The model's performance is evaluated, and its predictions are tested using both synthetic and real-world style reviews."
      ],
      "metadata": {
        "id": "3BHQUBJlT3je"
      }
    },
    {
      "cell_type": "code",
      "execution_count": 1,
      "metadata": {
        "id": "pHCWsnyOTR5Q"
      },
      "outputs": [],
      "source": [
        "# Importing Necessary Libraries\n",
        "\n",
        "import pandas as pd\n",
        "from sklearn.model_selection import train_test_split\n",
        "from sklearn.feature_extraction.text import CountVectorizer\n",
        "from sklearn.naive_bayes import MultinomialNB\n",
        "from sklearn.metrics import accuracy_score"
      ]
    },
    {
      "cell_type": "markdown",
      "source": [
        "# 2. Dataset Creation\n",
        "A sample dataset of 8 movie reviews was created. Each review is labeled as either positive or negative. The dataset is balanced, comprising 4 reviews for each class. This provides a minimal foundation for training a binary classification model.\n",
        "\n",
        "**Example entries:**\n",
        "* \"I love this movie\" → Positive\n",
        "* \"It was terrible\" → Negative\n",
        "\n",
        "The limited size of the dataset is a major constraint and affects the model's generalization ability. However, it serves to demonstrate the basic workflow of text classification.\n"
      ],
      "metadata": {
        "id": "5PxMeb4rUMGl"
      }
    },
    {
      "cell_type": "code",
      "source": [
        "# Creating a Dataset for the Model\n",
        "\n",
        "data = {\n",
        "'review': [\n",
        "\"I love this movie\"\n",
        ",\n",
        "\"Horrible acting\"\n",
        ",\n",
        "\"What a great film\"\n",
        ",\n",
        "\"Worst movie ever\"\n",
        ",\n",
        "\"Really enjoyed it\"\n",
        ",\n",
        "\"It was terrible\"\n",
        ",\n",
        "\"Fantastic performance\"\n",
        ",\n",
        "\"Not good at all\"\n",
        "],\n",
        "'label': ['positive'\n",
        ",\n",
        "'negative'\n",
        ",\n",
        "'positive'\n",
        ",\n",
        "'negative'\n",
        ",\n",
        "'positive'\n",
        ",\n",
        "'negative'\n",
        ",\n",
        "'positive'\n",
        ",\n",
        "'negative']\n",
        "}\n",
        "df = pd.DataFrame(data)"
      ],
      "metadata": {
        "id": "5DeDEmpCTzkZ"
      },
      "execution_count": 2,
      "outputs": []
    },
    {
      "cell_type": "markdown",
      "source": [
        "# 3. Data Preprocessing and Vectorization\n",
        "\n",
        "Text data are converted into numerical form so that it can be processed by machine learning algorithms. To achieve this, CountVectorizer is used, which tokenizes the text and builds a sparse matrix of token counts (Pedregosa et al., 2011).\n",
        "\n",
        "**Steps:**\n",
        "* Tokenization: Breaking down reviews into individual words.\n",
        "* Vectorization: Counting the frequency of each word across all reviews.\n",
        "* Result: A document-term matrix is generated, where each row represents a review and each column a word.\n",
        "\n",
        "\n",
        "\n"
      ],
      "metadata": {
        "id": "qseKR68KVDsP"
      }
    },
    {
      "cell_type": "code",
      "source": [
        "# Converting the Texts in the Dataset to Numeric Format\n",
        "\n",
        "vectorizer = CountVectorizer()\n",
        "X = vectorizer.fit_transform(df['review'])\n",
        "y = df['label']"
      ],
      "metadata": {
        "id": "zgJeoh2dVWON"
      },
      "execution_count": 3,
      "outputs": []
    },
    {
      "cell_type": "markdown",
      "source": [
        "# 4. Model Training and Testing\n",
        "The dataset was split into training (80%) and testing (20%) sets using train_test_split. A MultinomialNB model was trained on the training set using the scikit-learn library.\n",
        "\n",
        "**Model Choice Justification:**\n",
        "- MultinomialNB is ideal for discrete count features.\n",
        "- It performs well on text classification tasks with limited data.\n",
        "\n"
      ],
      "metadata": {
        "id": "kK37ddvlXuDd"
      }
    },
    {
      "cell_type": "code",
      "source": [
        "# Splitting the Data for Training and Testing\n",
        "\n",
        "X_train, X_test, y_train, y_test = train_test_split(X, y, test_size=0.2)\n",
        "\n",
        "# Training the Model\n",
        "\n",
        "model = MultinomialNB()\n",
        "model.fit(X_train, y_train)"
      ],
      "metadata": {
        "id": "MqaZU7IfX09q",
        "colab": {
          "base_uri": "https://localhost:8080/",
          "height": 80
        },
        "outputId": "68da46d4-d6e4-4f3d-b4b4-f60502badcba"
      },
      "execution_count": 4,
      "outputs": [
        {
          "output_type": "execute_result",
          "data": {
            "text/plain": [
              "MultinomialNB()"
            ],
            "text/html": [
              "<style>#sk-container-id-1 {\n",
              "  /* Definition of color scheme common for light and dark mode */\n",
              "  --sklearn-color-text: #000;\n",
              "  --sklearn-color-text-muted: #666;\n",
              "  --sklearn-color-line: gray;\n",
              "  /* Definition of color scheme for unfitted estimators */\n",
              "  --sklearn-color-unfitted-level-0: #fff5e6;\n",
              "  --sklearn-color-unfitted-level-1: #f6e4d2;\n",
              "  --sklearn-color-unfitted-level-2: #ffe0b3;\n",
              "  --sklearn-color-unfitted-level-3: chocolate;\n",
              "  /* Definition of color scheme for fitted estimators */\n",
              "  --sklearn-color-fitted-level-0: #f0f8ff;\n",
              "  --sklearn-color-fitted-level-1: #d4ebff;\n",
              "  --sklearn-color-fitted-level-2: #b3dbfd;\n",
              "  --sklearn-color-fitted-level-3: cornflowerblue;\n",
              "\n",
              "  /* Specific color for light theme */\n",
              "  --sklearn-color-text-on-default-background: var(--sg-text-color, var(--theme-code-foreground, var(--jp-content-font-color1, black)));\n",
              "  --sklearn-color-background: var(--sg-background-color, var(--theme-background, var(--jp-layout-color0, white)));\n",
              "  --sklearn-color-border-box: var(--sg-text-color, var(--theme-code-foreground, var(--jp-content-font-color1, black)));\n",
              "  --sklearn-color-icon: #696969;\n",
              "\n",
              "  @media (prefers-color-scheme: dark) {\n",
              "    /* Redefinition of color scheme for dark theme */\n",
              "    --sklearn-color-text-on-default-background: var(--sg-text-color, var(--theme-code-foreground, var(--jp-content-font-color1, white)));\n",
              "    --sklearn-color-background: var(--sg-background-color, var(--theme-background, var(--jp-layout-color0, #111)));\n",
              "    --sklearn-color-border-box: var(--sg-text-color, var(--theme-code-foreground, var(--jp-content-font-color1, white)));\n",
              "    --sklearn-color-icon: #878787;\n",
              "  }\n",
              "}\n",
              "\n",
              "#sk-container-id-1 {\n",
              "  color: var(--sklearn-color-text);\n",
              "}\n",
              "\n",
              "#sk-container-id-1 pre {\n",
              "  padding: 0;\n",
              "}\n",
              "\n",
              "#sk-container-id-1 input.sk-hidden--visually {\n",
              "  border: 0;\n",
              "  clip: rect(1px 1px 1px 1px);\n",
              "  clip: rect(1px, 1px, 1px, 1px);\n",
              "  height: 1px;\n",
              "  margin: -1px;\n",
              "  overflow: hidden;\n",
              "  padding: 0;\n",
              "  position: absolute;\n",
              "  width: 1px;\n",
              "}\n",
              "\n",
              "#sk-container-id-1 div.sk-dashed-wrapped {\n",
              "  border: 1px dashed var(--sklearn-color-line);\n",
              "  margin: 0 0.4em 0.5em 0.4em;\n",
              "  box-sizing: border-box;\n",
              "  padding-bottom: 0.4em;\n",
              "  background-color: var(--sklearn-color-background);\n",
              "}\n",
              "\n",
              "#sk-container-id-1 div.sk-container {\n",
              "  /* jupyter's `normalize.less` sets `[hidden] { display: none; }`\n",
              "     but bootstrap.min.css set `[hidden] { display: none !important; }`\n",
              "     so we also need the `!important` here to be able to override the\n",
              "     default hidden behavior on the sphinx rendered scikit-learn.org.\n",
              "     See: https://github.com/scikit-learn/scikit-learn/issues/21755 */\n",
              "  display: inline-block !important;\n",
              "  position: relative;\n",
              "}\n",
              "\n",
              "#sk-container-id-1 div.sk-text-repr-fallback {\n",
              "  display: none;\n",
              "}\n",
              "\n",
              "div.sk-parallel-item,\n",
              "div.sk-serial,\n",
              "div.sk-item {\n",
              "  /* draw centered vertical line to link estimators */\n",
              "  background-image: linear-gradient(var(--sklearn-color-text-on-default-background), var(--sklearn-color-text-on-default-background));\n",
              "  background-size: 2px 100%;\n",
              "  background-repeat: no-repeat;\n",
              "  background-position: center center;\n",
              "}\n",
              "\n",
              "/* Parallel-specific style estimator block */\n",
              "\n",
              "#sk-container-id-1 div.sk-parallel-item::after {\n",
              "  content: \"\";\n",
              "  width: 100%;\n",
              "  border-bottom: 2px solid var(--sklearn-color-text-on-default-background);\n",
              "  flex-grow: 1;\n",
              "}\n",
              "\n",
              "#sk-container-id-1 div.sk-parallel {\n",
              "  display: flex;\n",
              "  align-items: stretch;\n",
              "  justify-content: center;\n",
              "  background-color: var(--sklearn-color-background);\n",
              "  position: relative;\n",
              "}\n",
              "\n",
              "#sk-container-id-1 div.sk-parallel-item {\n",
              "  display: flex;\n",
              "  flex-direction: column;\n",
              "}\n",
              "\n",
              "#sk-container-id-1 div.sk-parallel-item:first-child::after {\n",
              "  align-self: flex-end;\n",
              "  width: 50%;\n",
              "}\n",
              "\n",
              "#sk-container-id-1 div.sk-parallel-item:last-child::after {\n",
              "  align-self: flex-start;\n",
              "  width: 50%;\n",
              "}\n",
              "\n",
              "#sk-container-id-1 div.sk-parallel-item:only-child::after {\n",
              "  width: 0;\n",
              "}\n",
              "\n",
              "/* Serial-specific style estimator block */\n",
              "\n",
              "#sk-container-id-1 div.sk-serial {\n",
              "  display: flex;\n",
              "  flex-direction: column;\n",
              "  align-items: center;\n",
              "  background-color: var(--sklearn-color-background);\n",
              "  padding-right: 1em;\n",
              "  padding-left: 1em;\n",
              "}\n",
              "\n",
              "\n",
              "/* Toggleable style: style used for estimator/Pipeline/ColumnTransformer box that is\n",
              "clickable and can be expanded/collapsed.\n",
              "- Pipeline and ColumnTransformer use this feature and define the default style\n",
              "- Estimators will overwrite some part of the style using the `sk-estimator` class\n",
              "*/\n",
              "\n",
              "/* Pipeline and ColumnTransformer style (default) */\n",
              "\n",
              "#sk-container-id-1 div.sk-toggleable {\n",
              "  /* Default theme specific background. It is overwritten whether we have a\n",
              "  specific estimator or a Pipeline/ColumnTransformer */\n",
              "  background-color: var(--sklearn-color-background);\n",
              "}\n",
              "\n",
              "/* Toggleable label */\n",
              "#sk-container-id-1 label.sk-toggleable__label {\n",
              "  cursor: pointer;\n",
              "  display: flex;\n",
              "  width: 100%;\n",
              "  margin-bottom: 0;\n",
              "  padding: 0.5em;\n",
              "  box-sizing: border-box;\n",
              "  text-align: center;\n",
              "  align-items: start;\n",
              "  justify-content: space-between;\n",
              "  gap: 0.5em;\n",
              "}\n",
              "\n",
              "#sk-container-id-1 label.sk-toggleable__label .caption {\n",
              "  font-size: 0.6rem;\n",
              "  font-weight: lighter;\n",
              "  color: var(--sklearn-color-text-muted);\n",
              "}\n",
              "\n",
              "#sk-container-id-1 label.sk-toggleable__label-arrow:before {\n",
              "  /* Arrow on the left of the label */\n",
              "  content: \"▸\";\n",
              "  float: left;\n",
              "  margin-right: 0.25em;\n",
              "  color: var(--sklearn-color-icon);\n",
              "}\n",
              "\n",
              "#sk-container-id-1 label.sk-toggleable__label-arrow:hover:before {\n",
              "  color: var(--sklearn-color-text);\n",
              "}\n",
              "\n",
              "/* Toggleable content - dropdown */\n",
              "\n",
              "#sk-container-id-1 div.sk-toggleable__content {\n",
              "  max-height: 0;\n",
              "  max-width: 0;\n",
              "  overflow: hidden;\n",
              "  text-align: left;\n",
              "  /* unfitted */\n",
              "  background-color: var(--sklearn-color-unfitted-level-0);\n",
              "}\n",
              "\n",
              "#sk-container-id-1 div.sk-toggleable__content.fitted {\n",
              "  /* fitted */\n",
              "  background-color: var(--sklearn-color-fitted-level-0);\n",
              "}\n",
              "\n",
              "#sk-container-id-1 div.sk-toggleable__content pre {\n",
              "  margin: 0.2em;\n",
              "  border-radius: 0.25em;\n",
              "  color: var(--sklearn-color-text);\n",
              "  /* unfitted */\n",
              "  background-color: var(--sklearn-color-unfitted-level-0);\n",
              "}\n",
              "\n",
              "#sk-container-id-1 div.sk-toggleable__content.fitted pre {\n",
              "  /* unfitted */\n",
              "  background-color: var(--sklearn-color-fitted-level-0);\n",
              "}\n",
              "\n",
              "#sk-container-id-1 input.sk-toggleable__control:checked~div.sk-toggleable__content {\n",
              "  /* Expand drop-down */\n",
              "  max-height: 200px;\n",
              "  max-width: 100%;\n",
              "  overflow: auto;\n",
              "}\n",
              "\n",
              "#sk-container-id-1 input.sk-toggleable__control:checked~label.sk-toggleable__label-arrow:before {\n",
              "  content: \"▾\";\n",
              "}\n",
              "\n",
              "/* Pipeline/ColumnTransformer-specific style */\n",
              "\n",
              "#sk-container-id-1 div.sk-label input.sk-toggleable__control:checked~label.sk-toggleable__label {\n",
              "  color: var(--sklearn-color-text);\n",
              "  background-color: var(--sklearn-color-unfitted-level-2);\n",
              "}\n",
              "\n",
              "#sk-container-id-1 div.sk-label.fitted input.sk-toggleable__control:checked~label.sk-toggleable__label {\n",
              "  background-color: var(--sklearn-color-fitted-level-2);\n",
              "}\n",
              "\n",
              "/* Estimator-specific style */\n",
              "\n",
              "/* Colorize estimator box */\n",
              "#sk-container-id-1 div.sk-estimator input.sk-toggleable__control:checked~label.sk-toggleable__label {\n",
              "  /* unfitted */\n",
              "  background-color: var(--sklearn-color-unfitted-level-2);\n",
              "}\n",
              "\n",
              "#sk-container-id-1 div.sk-estimator.fitted input.sk-toggleable__control:checked~label.sk-toggleable__label {\n",
              "  /* fitted */\n",
              "  background-color: var(--sklearn-color-fitted-level-2);\n",
              "}\n",
              "\n",
              "#sk-container-id-1 div.sk-label label.sk-toggleable__label,\n",
              "#sk-container-id-1 div.sk-label label {\n",
              "  /* The background is the default theme color */\n",
              "  color: var(--sklearn-color-text-on-default-background);\n",
              "}\n",
              "\n",
              "/* On hover, darken the color of the background */\n",
              "#sk-container-id-1 div.sk-label:hover label.sk-toggleable__label {\n",
              "  color: var(--sklearn-color-text);\n",
              "  background-color: var(--sklearn-color-unfitted-level-2);\n",
              "}\n",
              "\n",
              "/* Label box, darken color on hover, fitted */\n",
              "#sk-container-id-1 div.sk-label.fitted:hover label.sk-toggleable__label.fitted {\n",
              "  color: var(--sklearn-color-text);\n",
              "  background-color: var(--sklearn-color-fitted-level-2);\n",
              "}\n",
              "\n",
              "/* Estimator label */\n",
              "\n",
              "#sk-container-id-1 div.sk-label label {\n",
              "  font-family: monospace;\n",
              "  font-weight: bold;\n",
              "  display: inline-block;\n",
              "  line-height: 1.2em;\n",
              "}\n",
              "\n",
              "#sk-container-id-1 div.sk-label-container {\n",
              "  text-align: center;\n",
              "}\n",
              "\n",
              "/* Estimator-specific */\n",
              "#sk-container-id-1 div.sk-estimator {\n",
              "  font-family: monospace;\n",
              "  border: 1px dotted var(--sklearn-color-border-box);\n",
              "  border-radius: 0.25em;\n",
              "  box-sizing: border-box;\n",
              "  margin-bottom: 0.5em;\n",
              "  /* unfitted */\n",
              "  background-color: var(--sklearn-color-unfitted-level-0);\n",
              "}\n",
              "\n",
              "#sk-container-id-1 div.sk-estimator.fitted {\n",
              "  /* fitted */\n",
              "  background-color: var(--sklearn-color-fitted-level-0);\n",
              "}\n",
              "\n",
              "/* on hover */\n",
              "#sk-container-id-1 div.sk-estimator:hover {\n",
              "  /* unfitted */\n",
              "  background-color: var(--sklearn-color-unfitted-level-2);\n",
              "}\n",
              "\n",
              "#sk-container-id-1 div.sk-estimator.fitted:hover {\n",
              "  /* fitted */\n",
              "  background-color: var(--sklearn-color-fitted-level-2);\n",
              "}\n",
              "\n",
              "/* Specification for estimator info (e.g. \"i\" and \"?\") */\n",
              "\n",
              "/* Common style for \"i\" and \"?\" */\n",
              "\n",
              ".sk-estimator-doc-link,\n",
              "a:link.sk-estimator-doc-link,\n",
              "a:visited.sk-estimator-doc-link {\n",
              "  float: right;\n",
              "  font-size: smaller;\n",
              "  line-height: 1em;\n",
              "  font-family: monospace;\n",
              "  background-color: var(--sklearn-color-background);\n",
              "  border-radius: 1em;\n",
              "  height: 1em;\n",
              "  width: 1em;\n",
              "  text-decoration: none !important;\n",
              "  margin-left: 0.5em;\n",
              "  text-align: center;\n",
              "  /* unfitted */\n",
              "  border: var(--sklearn-color-unfitted-level-1) 1pt solid;\n",
              "  color: var(--sklearn-color-unfitted-level-1);\n",
              "}\n",
              "\n",
              ".sk-estimator-doc-link.fitted,\n",
              "a:link.sk-estimator-doc-link.fitted,\n",
              "a:visited.sk-estimator-doc-link.fitted {\n",
              "  /* fitted */\n",
              "  border: var(--sklearn-color-fitted-level-1) 1pt solid;\n",
              "  color: var(--sklearn-color-fitted-level-1);\n",
              "}\n",
              "\n",
              "/* On hover */\n",
              "div.sk-estimator:hover .sk-estimator-doc-link:hover,\n",
              ".sk-estimator-doc-link:hover,\n",
              "div.sk-label-container:hover .sk-estimator-doc-link:hover,\n",
              ".sk-estimator-doc-link:hover {\n",
              "  /* unfitted */\n",
              "  background-color: var(--sklearn-color-unfitted-level-3);\n",
              "  color: var(--sklearn-color-background);\n",
              "  text-decoration: none;\n",
              "}\n",
              "\n",
              "div.sk-estimator.fitted:hover .sk-estimator-doc-link.fitted:hover,\n",
              ".sk-estimator-doc-link.fitted:hover,\n",
              "div.sk-label-container:hover .sk-estimator-doc-link.fitted:hover,\n",
              ".sk-estimator-doc-link.fitted:hover {\n",
              "  /* fitted */\n",
              "  background-color: var(--sklearn-color-fitted-level-3);\n",
              "  color: var(--sklearn-color-background);\n",
              "  text-decoration: none;\n",
              "}\n",
              "\n",
              "/* Span, style for the box shown on hovering the info icon */\n",
              ".sk-estimator-doc-link span {\n",
              "  display: none;\n",
              "  z-index: 9999;\n",
              "  position: relative;\n",
              "  font-weight: normal;\n",
              "  right: .2ex;\n",
              "  padding: .5ex;\n",
              "  margin: .5ex;\n",
              "  width: min-content;\n",
              "  min-width: 20ex;\n",
              "  max-width: 50ex;\n",
              "  color: var(--sklearn-color-text);\n",
              "  box-shadow: 2pt 2pt 4pt #999;\n",
              "  /* unfitted */\n",
              "  background: var(--sklearn-color-unfitted-level-0);\n",
              "  border: .5pt solid var(--sklearn-color-unfitted-level-3);\n",
              "}\n",
              "\n",
              ".sk-estimator-doc-link.fitted span {\n",
              "  /* fitted */\n",
              "  background: var(--sklearn-color-fitted-level-0);\n",
              "  border: var(--sklearn-color-fitted-level-3);\n",
              "}\n",
              "\n",
              ".sk-estimator-doc-link:hover span {\n",
              "  display: block;\n",
              "}\n",
              "\n",
              "/* \"?\"-specific style due to the `<a>` HTML tag */\n",
              "\n",
              "#sk-container-id-1 a.estimator_doc_link {\n",
              "  float: right;\n",
              "  font-size: 1rem;\n",
              "  line-height: 1em;\n",
              "  font-family: monospace;\n",
              "  background-color: var(--sklearn-color-background);\n",
              "  border-radius: 1rem;\n",
              "  height: 1rem;\n",
              "  width: 1rem;\n",
              "  text-decoration: none;\n",
              "  /* unfitted */\n",
              "  color: var(--sklearn-color-unfitted-level-1);\n",
              "  border: var(--sklearn-color-unfitted-level-1) 1pt solid;\n",
              "}\n",
              "\n",
              "#sk-container-id-1 a.estimator_doc_link.fitted {\n",
              "  /* fitted */\n",
              "  border: var(--sklearn-color-fitted-level-1) 1pt solid;\n",
              "  color: var(--sklearn-color-fitted-level-1);\n",
              "}\n",
              "\n",
              "/* On hover */\n",
              "#sk-container-id-1 a.estimator_doc_link:hover {\n",
              "  /* unfitted */\n",
              "  background-color: var(--sklearn-color-unfitted-level-3);\n",
              "  color: var(--sklearn-color-background);\n",
              "  text-decoration: none;\n",
              "}\n",
              "\n",
              "#sk-container-id-1 a.estimator_doc_link.fitted:hover {\n",
              "  /* fitted */\n",
              "  background-color: var(--sklearn-color-fitted-level-3);\n",
              "}\n",
              "</style><div id=\"sk-container-id-1\" class=\"sk-top-container\"><div class=\"sk-text-repr-fallback\"><pre>MultinomialNB()</pre><b>In a Jupyter environment, please rerun this cell to show the HTML representation or trust the notebook. <br />On GitHub, the HTML representation is unable to render, please try loading this page with nbviewer.org.</b></div><div class=\"sk-container\" hidden><div class=\"sk-item\"><div class=\"sk-estimator fitted sk-toggleable\"><input class=\"sk-toggleable__control sk-hidden--visually\" id=\"sk-estimator-id-1\" type=\"checkbox\" checked><label for=\"sk-estimator-id-1\" class=\"sk-toggleable__label fitted sk-toggleable__label-arrow\"><div><div>MultinomialNB</div></div><div><a class=\"sk-estimator-doc-link fitted\" rel=\"noreferrer\" target=\"_blank\" href=\"https://scikit-learn.org/1.6/modules/generated/sklearn.naive_bayes.MultinomialNB.html\">?<span>Documentation for MultinomialNB</span></a><span class=\"sk-estimator-doc-link fitted\">i<span>Fitted</span></span></div></label><div class=\"sk-toggleable__content fitted\"><pre>MultinomialNB()</pre></div> </div></div></div></div>"
            ]
          },
          "metadata": {},
          "execution_count": 4
        }
      ]
    },
    {
      "cell_type": "markdown",
      "source": [
        "# 5. Model Evaluation\n",
        "The model's performance was measured using accuracy. On this minimal dataset, the model achieved **0.0** accuracy on the test set.\n",
        "\n",
        "**Possible Reasons for Poor Performance:**\n",
        "* Extremely small dataset (only 8 reviews).\n",
        "* Limited vocabulary: Test reviews may contain words not seen in training.\n",
        "* No pre-processing like lowercasing, punctuation removal, or stopword filtering.\n",
        "* Lack of stratification in train_test_split might result in uneven class distribution in training/testing sets.\n",
        "\n",
        "These limitations highlight the importance of data size and preprocessing in real-world NLP tasks.\n"
      ],
      "metadata": {
        "id": "NWqj0Rt4Ygt0"
      }
    },
    {
      "cell_type": "code",
      "source": [
        "# Evaluating the Model\n",
        "\n",
        "y_pred = model.predict(X_test)\n",
        "print(\"Accuracy:\"\n",
        ", accuracy_score(y_test, y_pred))"
      ],
      "metadata": {
        "colab": {
          "base_uri": "https://localhost:8080/"
        },
        "id": "VdDwY68GYlLi",
        "outputId": "48fa096c-e4ed-47b4-f278-c6186541399d"
      },
      "execution_count": 5,
      "outputs": [
        {
          "output_type": "stream",
          "name": "stdout",
          "text": [
            "Accuracy: 0.5\n"
          ]
        }
      ]
    },
    {
      "cell_type": "markdown",
      "source": [
        "# 6. Testing with Custom Reviews\n",
        "\n",
        "To evaluate the model further, multiple realistic movie reviews were manually input:\n",
        "\n",
        "| Review Summary                | Expected | Predicted |\n",
        "    |-------------------------------|----------|-----------|\n",
        "    | I hated the plot              | Negative | Negative  |\n",
        "    | John Wick review (positive)   | Positive | Positive  |\n",
        "    | Manchester by the Sea (neutral/mixed) | Neutral  | Negative  |\n",
        "    | Moonfall (negative)           | Negative | Negative  |\n",
        "    | Bridesmaids (positive comedy) | Positive | Negative  |\n",
        "    | Gone Girl (positive thriller) | Positive | Positive  |\n",
        "\n",
        "The model correctly identified some strongly worded reviews. However, it failed with varied or mixed-tone reviews due to its reliance on a very limited vocabulary from the training set.\n"
      ],
      "metadata": {
        "id": "kFooIP9CZKsT"
      }
    },
    {
      "cell_type": "code",
      "source": [
        "# Testing My Own Reviews\n",
        "\n",
        "My_review = [\"I hated the plot\"]\n",
        "My_review_vector = vectorizer.transform(My_review)\n",
        "print(\"Prediction:\"\n",
        ", model.predict(My_review_vector))"
      ],
      "metadata": {
        "colab": {
          "base_uri": "https://localhost:8080/"
        },
        "id": "VKhLzbm8ZbJ5",
        "outputId": "e86e612d-4ec8-48cb-a900-e364598014a4"
      },
      "execution_count": 6,
      "outputs": [
        {
          "output_type": "stream",
          "name": "stdout",
          "text": [
            "Prediction: ['negative']\n"
          ]
        }
      ]
    },
    {
      "cell_type": "code",
      "source": [
        "My_review = [\"John Wick is a masterclass in stylized action. Keanu Reeves brings a quiet intensity to the role, and the fight choreography is nothing short of breathtaking. From the neon-lit visuals to the pulsating soundtrack, everything clicks. It's not just a shoot-em-up — it's an operatic ballet of vengeance.\"]\n",
        "My_review_vector = vectorizer.transform(My_review)\n",
        "print(\"Prediction:\"\n",
        ", model.predict(My_review_vector))"
      ],
      "metadata": {
        "colab": {
          "base_uri": "https://localhost:8080/"
        },
        "id": "U88SMl14aX69",
        "outputId": "df025e55-8964-4bc7-9d9a-f2071476287d"
      },
      "execution_count": 7,
      "outputs": [
        {
          "output_type": "stream",
          "name": "stdout",
          "text": [
            "Prediction: ['negative']\n"
          ]
        }
      ]
    },
    {
      "cell_type": "code",
      "source": [
        "My_review = [\"Manchester by the Sea is emotionally resonant but slow in parts. Casey Affleck delivers a powerful, subdued performance, but the pacing and minimalist dialogue might not work for everyone. It's beautifully acted and well-written, though at times it feels too bleak and drawn out.\"]\n",
        "My_review_vector = vectorizer.transform(My_review)\n",
        "print(\"Prediction:\"\n",
        ", model.predict(My_review_vector))"
      ],
      "metadata": {
        "colab": {
          "base_uri": "https://localhost:8080/"
        },
        "id": "aFqgm76fbTXG",
        "outputId": "df644bd1-65e2-4257-b2bf-507c7b3ab7ed"
      },
      "execution_count": 8,
      "outputs": [
        {
          "output_type": "stream",
          "name": "stdout",
          "text": [
            "Prediction: ['negative']\n"
          ]
        }
      ]
    },
    {
      "cell_type": "code",
      "source": [
        "My_review = [\"Moonfall is a disaster movie in every sense of the word — and not in a good way. The science is laughable, the characters are one-dimensional, and the plot feels like it was written by an AI gone rogue. Even the special effects can't save this lunar mess.\"]\n",
        "My_review_vector = vectorizer.transform(My_review)\n",
        "print(\"Prediction:\"\n",
        ", model.predict(My_review_vector))"
      ],
      "metadata": {
        "colab": {
          "base_uri": "https://localhost:8080/"
        },
        "id": "yEVgX-JmbVAv",
        "outputId": "196e0ba1-211d-4537-a804-ac9b70ad6697"
      },
      "execution_count": 9,
      "outputs": [
        {
          "output_type": "stream",
          "name": "stdout",
          "text": [
            "Prediction: ['negative']\n"
          ]
        }
      ]
    },
    {
      "cell_type": "code",
      "source": [
        "My_review = [\"Hilarious, outrageous, and surprisingly heartfelt. Kristen Wiig and Melissa McCarthy are comedy gold.\"]\n",
        "My_review_vector = vectorizer.transform(My_review)\n",
        "print(\"Prediction:\"\n",
        ", model.predict(My_review_vector))"
      ],
      "metadata": {
        "colab": {
          "base_uri": "https://localhost:8080/"
        },
        "id": "bB6doYi0bWb0",
        "outputId": "1ca1d0f0-7579-4b40-cc64-076ed5f3fcc0"
      },
      "execution_count": 10,
      "outputs": [
        {
          "output_type": "stream",
          "name": "stdout",
          "text": [
            "Prediction: ['negative']\n"
          ]
        }
      ]
    },
    {
      "cell_type": "code",
      "source": [
        "My_review = [\"Gone Girl blends social commentary with psychological suspense in a brilliantly twisted narrative. David Fincher's direction is razor-sharp, and Rosamund Pike gives a career-defining performance as the elusive Amy Dunne. The film explores media manipulation, marital discontent, and the masks we wear in relationships. A disturbing yet compelling watch.\"]\n",
        "My_review_vector = vectorizer.transform(My_review)\n",
        "print(\"Prediction:\"\n",
        ", model.predict(My_review_vector))"
      ],
      "metadata": {
        "colab": {
          "base_uri": "https://localhost:8080/"
        },
        "id": "vn3gAUfBdUWd",
        "outputId": "1ea3c894-8959-442b-aab4-8a8ea3e78798"
      },
      "execution_count": 11,
      "outputs": [
        {
          "output_type": "stream",
          "name": "stdout",
          "text": [
            "Prediction: ['positive']\n"
          ]
        }
      ]
    },
    {
      "cell_type": "markdown",
      "source": [
        "# 7. Recommendations for Improvement\n",
        "To enhance model accuracy and applicability:\n",
        "* Data Expansion: The model should train with hundreds or thousands of labeled reviews.\n",
        "* Text Preprocessing: Clean the data (lowercase, remove punctuation/stopwords).\n",
        "* Feature Engineering: Use TfidfVectorizer instead of raw counts. Though raw counts method is straightforward, it lacks semantic understanding (e.g., context, sarcasm). For larger projects, TF-IDF or word embeddings may be more suitable (Jurafsky & Martin, 2021).\n",
        "* Model Experimentation: Try other algorithms like Logistic Regression, SVM, or deep learning models.\n",
        "* Cross-Validation: Implement K-fold cross-validation for robust evaluation.\n",
        "\n",
        "These changes would improve generalization and allow the model to better handle complex, realistic reviews.\n",
        "\n",
        "# 8. Reflection and Key Learnings\n",
        "\n",
        "This project reinforced fundamental concepts in machine learning and NLP:\n",
        "- The importance of data preprocessing in text classification.\n",
        "- How sparse feature matrices affect model accuracy.\n",
        "- The sensitivity of probabilistic models like Naive Bayes to vocabulary mismatch.\n",
        "- Value of evaluation using real-world data beyond the test set.\n",
        "\n",
        "Even though the model performance was limited, the exercise demonstrated a complete pipeline from raw data to deployment-ready prediction logic.\n",
        "\n",
        "# 9. References\n",
        "- Pedregosa, F., Varoquaux, G., Gramfort, A., Michel, V., Thirion, B., Grisel, O., ... & Duchesnay, É. (2011). Scikit-learn: Machine learning in Python. *Journal of Machine Learning Research, 12*, 2825 - 2830.\n",
        "- Jurafsky, D., & Martin, J. H. (2021). *Speech and language processing* (3rd ed., draft). Stanford University. https://web.stanford.edu/~jurafsky/slp3/\n"
      ],
      "metadata": {
        "id": "rZkpZ2VTBtsd"
      }
    }
  ]
}
